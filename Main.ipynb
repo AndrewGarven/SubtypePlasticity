{
 "cells": [
  {
   "cell_type": "markdown",
   "source": [
    "# Dependencies"
   ],
   "metadata": {
    "collapsed": false,
    "pycharm": {
     "name": "#%% md\n"
    }
   }
  },
  {
   "cell_type": "code",
   "execution_count": 1,
   "outputs": [],
   "source": [
    "import pandas as pd\n",
    "import itertools\n",
    "import networkx as nx\n",
    "import matplotlib.pyplot as plt\n",
    "from math import sqrt\n",
    "from os import path, mkdir"
   ],
   "metadata": {
    "collapsed": false,
    "pycharm": {
     "name": "#%%\n"
    }
   }
  },
  {
   "cell_type": "markdown",
   "source": [
    "# MakeGraph\n",
    "\n",
    "makegraph is used to generate a networkx object from list of 2D coordinates with nodal information\n",
    "\n",
    "        Typical use:\n",
    "\n",
    "            graph : makegraph(datadir, filename, nodeweight, maxlinkingdistance).graph()\n",
    "\n",
    "        :datadir: string of directory containing nuclear position data\n",
    "        :filename: string of (.csv) file containing nuclear positional information\n",
    "    *** :nodeweight: list of column name(s) strings in nuclear position dataframe (in 'filename'.csv) that contain node\n",
    "                     information (i.e. nuclear staining intensity, nuclear optimal density, cellular h-score value)\n",
    "                     - the column name(s) list must contain less than 2 column names\n",
    "        :maxlinkingdistance(int): values of distance between nuclear centroids (in pixels) to form a link (edge) between\n",
    "        nuclei\n",
    "\n"
   ],
   "metadata": {
    "collapsed": false,
    "pycharm": {
     "name": "#%% md\n"
    }
   }
  },
  {
   "cell_type": "code",
   "execution_count": 2,
   "outputs": [
    {
     "name": "stdout",
     "output_type": "stream",
     "text": [
      "<class 'torch_geometric.loader.dataloader.DataLoader'>\n"
     ]
    }
   ],
   "source": [
    "from Funcs.DataLoader import NuclearSubtypeDataset\n",
    "from torch_geometric.loader import DataLoader\n",
    "\n",
    "print(type(DataLoader(NuclearSubtypeDataset(root='/Users/andrewgarven/PycharmProjects/SubtypePlasticity/Data'),\n",
    "                batch_size=2,\n",
    "                shuffle=True)))"
   ],
   "metadata": {
    "collapsed": false,
    "pycharm": {
     "name": "#%%\n"
    }
   }
  },
  {
   "cell_type": "code",
   "execution_count": null,
   "outputs": [],
   "source": [],
   "metadata": {
    "collapsed": false,
    "pycharm": {
     "name": "#%%\n"
    }
   }
  }
 ],
 "metadata": {
  "kernelspec": {
   "display_name": "Python 3",
   "language": "python",
   "name": "python3"
  },
  "language_info": {
   "codemirror_mode": {
    "name": "ipython",
    "version": 2
   },
   "file_extension": ".py",
   "mimetype": "text/x-python",
   "name": "python",
   "nbconvert_exporter": "python",
   "pygments_lexer": "ipython2",
   "version": "2.7.6"
  }
 },
 "nbformat": 4,
 "nbformat_minor": 0
}