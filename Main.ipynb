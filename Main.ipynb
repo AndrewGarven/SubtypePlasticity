{
 "cells": [
  {
   "cell_type": "markdown",
   "source": [
    "# Dependencies"
   ],
   "metadata": {
    "collapsed": false,
    "pycharm": {
     "name": "#%% md\n"
    }
   }
  },
  {
   "cell_type": "code",
   "execution_count": 1,
   "outputs": [],
   "source": [
    "import pandas as pd\n",
    "import itertools\n",
    "import networkx as nx\n",
    "import matplotlib.pyplot as plt\n",
    "from math import sqrt\n",
    "from os import path, mkdir"
   ],
   "metadata": {
    "collapsed": false,
    "pycharm": {
     "name": "#%%\n"
    }
   }
  },
  {
   "cell_type": "markdown",
   "source": [
    "# MakeGraph\n",
    "\n",
    "makegraph is used to generate a networkx object from list of 2D coordinates with nodal information\n",
    "\n",
    "        Typical use:\n",
    "\n",
    "            graph : makegraph(datadir, filename, nodeweight, maxlinkingdistance).graph()\n",
    "\n",
    "        :datadir: string of directory containing nuclear position data\n",
    "        :filename: string of (.csv) file containing nuclear positional information\n",
    "    *** :nodeweight: list of column name(s) strings in nuclear position dataframe (in 'filename'.csv) that contain node\n",
    "                     information (i.e. nuclear staining intensity, nuclear optimal density, cellular h-score value)\n",
    "                     - the column name(s) list must contain less than 2 column names\n",
    "        :maxlinkingdistance(int): values of distance between nuclear centroids (in pixels) to form a link (edge) between\n",
    "        nuclei\n",
    "\n"
   ],
   "metadata": {
    "collapsed": false,
    "pycharm": {
     "name": "#%% md\n"
    }
   }
  },
  {
   "cell_type": "code",
   "execution_count": 1,
   "metadata": {
    "collapsed": true,
    "pycharm": {
     "name": "#%%\n"
    }
   },
   "outputs": [],
   "source": [
    "from Funcs.MakeGraph import MakeGraph\n",
    "\n",
    "TEST = MakeGraph('/Users/andrewgarven/PycharmProjects/SubtypePlasticity/Data',\n",
    "                  'TEST-dualstain',\n",
    "                  ['Stain 1 Nucleus OD', 'Stain 2 Cytoplasm OD'],\n",
    "                  30).graph()"
   ]
  },
  {
   "cell_type": "code",
   "execution_count": 6,
   "outputs": [
    {
     "ename": "AttributeError",
     "evalue": "'Graph' object has no attribute 'show'",
     "output_type": "error",
     "traceback": [
      "\u001B[0;31m---------------------------------------------------------------------------\u001B[0m",
      "\u001B[0;31mAttributeError\u001B[0m                            Traceback (most recent call last)",
      "Cell \u001B[0;32mIn[6], line 3\u001B[0m\n\u001B[1;32m      1\u001B[0m \u001B[38;5;28;01mimport\u001B[39;00m \u001B[38;5;21;01mmatplotlib\u001B[39;00m\u001B[38;5;21;01m.\u001B[39;00m\u001B[38;5;21;01mpyplot\u001B[39;00m \u001B[38;5;28;01mas\u001B[39;00m \u001B[38;5;21;01mplt\u001B[39;00m\n\u001B[0;32m----> 3\u001B[0m \u001B[43mTEST\u001B[49m\u001B[38;5;241;43m.\u001B[39;49m\u001B[43mshow\u001B[49m()\n",
      "\u001B[0;31mAttributeError\u001B[0m: 'Graph' object has no attribute 'show'"
     ]
    }
   ],
   "source": [],
   "metadata": {
    "collapsed": false,
    "pycharm": {
     "name": "#%%\n"
    }
   }
  },
  {
   "cell_type": "code",
   "execution_count": null,
   "outputs": [],
   "source": [],
   "metadata": {
    "collapsed": false,
    "pycharm": {
     "name": "#%%\n"
    }
   }
  }
 ],
 "metadata": {
  "kernelspec": {
   "display_name": "Python 3",
   "language": "python",
   "name": "python3"
  },
  "language_info": {
   "codemirror_mode": {
    "name": "ipython",
    "version": 2
   },
   "file_extension": ".py",
   "mimetype": "text/x-python",
   "name": "python",
   "nbconvert_exporter": "python",
   "pygments_lexer": "ipython2",
   "version": "2.7.6"
  }
 },
 "nbformat": 4,
 "nbformat_minor": 0
}