{
 "cells": [
  {
   "cell_type": "markdown",
   "source": [
    "# Dependencies"
   ],
   "metadata": {
    "collapsed": false,
    "pycharm": {
     "name": "#%% md\n"
    }
   }
  },
  {
   "cell_type": "code",
   "execution_count": 1,
   "outputs": [],
   "source": [
    "import pandas as pd"
   ],
   "metadata": {
    "collapsed": false,
    "pycharm": {
     "name": "#%%\n"
    }
   }
  },
  {
   "cell_type": "markdown",
   "source": [
    "# Preprocessing"
   ],
   "metadata": {
    "collapsed": false,
    "pycharm": {
     "name": "#%% md\n"
    }
   }
  },
  {
   "cell_type": "code",
   "execution_count": 2,
   "metadata": {
    "collapsed": true,
    "pycharm": {
     "name": "#%%\n"
    }
   },
   "outputs": [
    {
     "name": "stdout",
     "output_type": "stream",
     "text": [
      "           XMin  XMax  YMin  YMax  Stain 1 Classification  Stain 1 Nucleus OD  \\\n",
      "Object Id                                                                       \n",
      "0          4013  4043  2390  2416                       2            0.419768   \n",
      "1          4085  4131  2400  2463                       1            0.323755   \n",
      "2          3990  4024  2405  2447                       2            0.424269   \n",
      "3          4068  4091  2407  2432                       1            0.342082   \n",
      "4          4023  4052  2408  2441                       2            0.472042   \n",
      "5          4053  4071  2408  2428                       1            0.361217   \n",
      "6          4026  4086  2430  2472                       1            0.327359   \n",
      "7          4179  4217  2439  2482                       0            0.082258   \n",
      "8          3997  4023  2451  2485                       1            0.189056   \n",
      "9          4060  4117  2451  2494                       1            0.327359   \n",
      "\n",
      "           Stain 1 Cytoplasm OD  Stain 2 Classification  Stain 2 Nucleus OD  \\\n",
      "Object Id                                                                     \n",
      "0                      0.137027                       3            0.295950   \n",
      "1                      0.072086                       1            0.313118   \n",
      "2                      0.109875                       3            0.239223   \n",
      "3                      0.189056                       3            0.345842   \n",
      "4                      0.120983                       3            0.191696   \n",
      "5                      0.163502                       3            0.323755   \n",
      "6                      0.109875                       3            0.309630   \n",
      "7                      0.048605                       0            0.361217   \n",
      "8                      0.076126                       3            0.410905   \n",
      "9                      0.107687                       1            0.342082   \n",
      "\n",
      "           Stain 2 Cytoplasm OD  Cell Area (µm²)  Nucleus Area (µm²)  \\\n",
      "Object Id                                                              \n",
      "0                      0.381234          64.9532             30.4137   \n",
      "1                      0.116506         241.6590            106.4480   \n",
      "2                      0.357322         115.4070             51.2788   \n",
      "3                      0.361217          53.5186             35.2468   \n",
      "4                      0.393703          74.6195             31.7104   \n",
      "5                      0.402219          37.3687             17.2108   \n",
      "6                      0.365147         201.9330            111.9880   \n",
      "7                      0.050514         150.7720             11.1988   \n",
      "8                      0.406540          67.4287             20.1579   \n",
      "9                      0.199714         184.7220            104.9150   \n",
      "\n",
      "           Cytoplasm Area (µm²)  Nucleus Perimeter (µm)  Nucleus Roundness  \n",
      "Object Id                                                                   \n",
      "0                       34.5395                 26.4372           0.750523  \n",
      "1                      135.2110                 59.3978           0.699234  \n",
      "2                       64.1280                 34.6773           0.709353  \n",
      "3                       18.2718                 31.5873           0.730751  \n",
      "4                       42.9092                 26.0938           0.646231  \n",
      "5                       20.1579                 19.2270           0.753925  \n",
      "6                       89.9443                 71.0714           0.719672  \n",
      "7                      139.5730                 16.4803           0.869285  \n",
      "8                       47.2708                 20.6004           0.668454  \n",
      "9                       79.8064                 55.9644           0.684286  \n"
     ]
    }
   ],
   "source": [
    "test = pd.read_csv('Data/TEST-tmaCoordinates.csv', index_col = 'Object Id')\n",
    "\n",
    "def PreprocessCellIHC():\n"
   ]
  },
  {
   "cell_type": "code",
   "execution_count": null,
   "outputs": [],
   "source": [],
   "metadata": {
    "collapsed": false,
    "pycharm": {
     "name": "#%%\n"
    }
   }
  }
 ],
 "metadata": {
  "kernelspec": {
   "display_name": "Python 3",
   "language": "python",
   "name": "python3"
  },
  "language_info": {
   "codemirror_mode": {
    "name": "ipython",
    "version": 2
   },
   "file_extension": ".py",
   "mimetype": "text/x-python",
   "name": "python",
   "nbconvert_exporter": "python",
   "pygments_lexer": "ipython2",
   "version": "2.7.6"
  }
 },
 "nbformat": 4,
 "nbformat_minor": 0
}